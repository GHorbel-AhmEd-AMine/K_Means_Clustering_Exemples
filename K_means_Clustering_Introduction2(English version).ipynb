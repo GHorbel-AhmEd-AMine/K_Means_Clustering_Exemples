{
 "cells": [
  {
   "cell_type": "markdown",
   "metadata": {},
   "source": [
    "## What's is clustering "
   ]
  },
  {
   "cell_type": "markdown",
   "metadata": {},
   "source": [
    "Clustering is the process of dividing the datasets into groups , consisting of similar data-points.\n",
    "1) points in the same group are as similar as possible.\n",
    "2) points in different group are as dissimilar as possible.\n"
   ]
  },
  {
   "cell_type": "markdown",
   "metadata": {},
   "source": [
    "## Where is used "
   ]
  },
  {
   "cell_type": "markdown",
   "metadata": {},
   "source": [
    "1) Amazon : Recommendation System.\n",
    "\n",
    "2) NETFLIX : Recommended movies.\n",
    "\n",
    "3) flickr : fickr's photos."
   ]
  },
  {
   "cell_type": "markdown",
   "metadata": {},
   "source": [
    "## How business use clustering"
   ]
  },
  {
   "cell_type": "markdown",
   "metadata": {},
   "source": [
    "1) Retail Store \n",
    "\n",
    "2) Banking \n",
    "\n",
    "3) Insurance Companies "
   ]
  },
  {
   "cell_type": "markdown",
   "metadata": {},
   "source": [
    "## Types of clustering "
   ]
  },
  {
   "cell_type": "markdown",
   "metadata": {},
   "source": [
    "1) Exclusive Clustering : \n",
    "\n",
    "hard clustering \n",
    "data point / item belongs exclusively to on cluster \n",
    "For exemple : K-Means clustering \n",
    "\n",
    "2) Overlapping Clustering : \n",
    "\n",
    "Soft cluster \n",
    "data point / item belongs to multiple cluster \n",
    "For exemple : Fuzzy / C - Means clustering \n",
    "\n",
    "3) Hierarchical Clustering "
   ]
  },
  {
   "cell_type": "markdown",
   "metadata": {},
   "source": [
    "## What is K_Means Clustering \n"
   ]
  },
  {
   "cell_type": "markdown",
   "metadata": {},
   "source": [
    "K_means clustering is an algorithm whose main goal is to group similar elements or data points into a cluster."
   ]
  },
  {
   "cell_type": "markdown",
   "metadata": {},
   "source": [
    "#### "
   ]
  }
 ],
 "metadata": {
  "kernelspec": {
   "display_name": "Python 3",
   "language": "python",
   "name": "python3"
  },
  "language_info": {
   "codemirror_mode": {
    "name": "ipython",
    "version": 3
   },
   "file_extension": ".py",
   "mimetype": "text/x-python",
   "name": "python",
   "nbconvert_exporter": "python",
   "pygments_lexer": "ipython3",
   "version": "3.7.4"
  }
 },
 "nbformat": 4,
 "nbformat_minor": 2
}
